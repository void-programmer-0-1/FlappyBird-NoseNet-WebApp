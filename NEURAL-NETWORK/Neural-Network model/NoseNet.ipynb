{
  "nbformat": 4,
  "nbformat_minor": 0,
  "metadata": {
    "colab": {
      "name": "NoseNet.ipynb",
      "provenance": [],
      "collapsed_sections": []
    },
    "kernelspec": {
      "name": "python3",
      "display_name": "Python 3"
    },
    "language_info": {
      "name": "python"
    }
  },
  "cells": [
    {
      "cell_type": "code",
      "execution_count": 17,
      "metadata": {
        "id": "_PUuRlPfTA45"
      },
      "outputs": [],
      "source": [
        "import torch \n",
        "import torch.nn as nn\n",
        "from torch.utils.data import Dataset,DataLoader\n",
        "import torchvision\n",
        "import torchvision.transforms as transforms\n",
        "\n",
        "import numpy as np\n",
        "import pandas as pd\n",
        "import cv2\n",
        "import matplotlib.pyplot as plt\n",
        "from PIL import Image\n",
        "from sklearn.model_selection import train_test_split\n",
        "\n",
        "import torch.utils.tensorboard as pttb\n",
        "from torch.utils.tensorboard import SummaryWriter\n",
        "\n",
        "from typing import Tuple,List,Any\n"
      ]
    },
    {
      "cell_type": "code",
      "source": [
        "from google.colab import drive\n",
        "drive.mount('/content/drive')"
      ],
      "metadata": {
        "colab": {
          "base_uri": "https://localhost:8080/"
        },
        "id": "SudXx_7k1o7u",
        "outputId": "c2a283a2-b470-46d5-cdfe-bf53a0c3200b"
      },
      "execution_count": 18,
      "outputs": [
        {
          "output_type": "stream",
          "name": "stdout",
          "text": [
            "Drive already mounted at /content/drive; to attempt to forcibly remount, call drive.mount(\"/content/drive\", force_remount=True).\n"
          ]
        }
      ]
    },
    {
      "cell_type": "code",
      "source": [
        "%load_ext tensorboard"
      ],
      "metadata": {
        "id": "1Z5ixw5dfeIW"
      },
      "execution_count": 3,
      "outputs": []
    },
    {
      "cell_type": "code",
      "source": [
        "image_data_path = \"/content/drive/MyDrive/NoseNet-DataSet/images/\"\n",
        "label_data_path = \"/content/drive/MyDrive/NoseNet-DataSet/labels/\"\n",
        "\n",
        "labels_file_name = \"nosenet.csv\""
      ],
      "metadata": {
        "id": "Qj53Kq6pTlaW"
      },
      "execution_count": 19,
      "outputs": []
    },
    {
      "cell_type": "code",
      "source": [
        "df = pd.read_csv(label_data_path + labels_file_name)"
      ],
      "metadata": {
        "id": "8gMdscB_UrmM"
      },
      "execution_count": 48,
      "outputs": []
    },
    {
      "cell_type": "code",
      "source": [
        "df = df.set_axis(['PART','X', 'Y', 'IMG-PATH','WIDTH','HEIGHT'], axis=1, inplace=False)"
      ],
      "metadata": {
        "id": "-v0wrfRIVezV"
      },
      "execution_count": 49,
      "outputs": []
    },
    {
      "cell_type": "code",
      "source": [
        "df.info()"
      ],
      "metadata": {
        "colab": {
          "base_uri": "https://localhost:8080/"
        },
        "id": "bP0THakXVHmD",
        "outputId": "b1516816-a6b4-4d6a-b410-17b50ee3c187"
      },
      "execution_count": 50,
      "outputs": [
        {
          "output_type": "stream",
          "name": "stdout",
          "text": [
            "<class 'pandas.core.frame.DataFrame'>\n",
            "RangeIndex: 1048 entries, 0 to 1047\n",
            "Data columns (total 6 columns):\n",
            " #   Column    Non-Null Count  Dtype \n",
            "---  ------    --------------  ----- \n",
            " 0   PART      1048 non-null   object\n",
            " 1   X         1048 non-null   int64 \n",
            " 2   Y         1048 non-null   int64 \n",
            " 3   IMG-PATH  1048 non-null   object\n",
            " 4   WIDTH     1048 non-null   int64 \n",
            " 5   HEIGHT    1048 non-null   int64 \n",
            "dtypes: int64(4), object(2)\n",
            "memory usage: 49.2+ KB\n"
          ]
        }
      ]
    },
    {
      "cell_type": "code",
      "source": [
        "# https://stackoverflow.com/questions/34962104/how-can-i-use-the-apply-function-for-a-single-column\n",
        "# https://youtu.be/smPLY_5gVv4\n",
        "\n",
        "def reshape_annotation(x_annotation,y_annotation,width,height):\n",
        "  \n",
        "    resized_x = 300\n",
        "    resized_y = 300\n",
        "\n",
        "    x_scale = (resized_x / width)\n",
        "    y_scale = (resized_y / height)\n",
        "\n",
        "    X = int(np.round(x_annotation * x_scale))\n",
        "    Y = int(np.round(y_annotation * y_scale))\n",
        "\n",
        "    return X,Y\n",
        "\n",
        "\n",
        "def reshape_annotation_x(x_annotation,width):\n",
        "\n",
        "    resized_x = 300\n",
        "    \n",
        "    for w in range(len(width)):\n",
        "      x_scale = (resized_x / width[w])\n",
        "      X = int(np.round(x_annotation * x_scale))\n",
        "\n",
        "      return X\n",
        "\n",
        "def reshape_annotation_y(y_annotation,height):\n",
        "\n",
        "    resized_y = 300\n",
        "\n",
        "    for h in range(len(height)):\n",
        "      y_scale = (resized_y / height[h])\n",
        "      Y = int(np.round(y_annotation * y_scale))\n",
        "\n",
        "      return Y\n"
      ],
      "metadata": {
        "id": "0BmWkwLu2GBc"
      },
      "execution_count": 51,
      "outputs": []
    },
    {
      "cell_type": "code",
      "source": [
        "df.head(5)"
      ],
      "metadata": {
        "colab": {
          "base_uri": "https://localhost:8080/",
          "height": 206
        },
        "id": "xBGRG2JVG83d",
        "outputId": "035a4d84-0b80-4a0c-c700-45d85c2ca9de"
      },
      "execution_count": 52,
      "outputs": [
        {
          "output_type": "execute_result",
          "data": {
            "text/html": [
              "\n",
              "  <div id=\"df-d5ff66d2-bed5-44af-868d-e6c51ba54584\">\n",
              "    <div class=\"colab-df-container\">\n",
              "      <div>\n",
              "<style scoped>\n",
              "    .dataframe tbody tr th:only-of-type {\n",
              "        vertical-align: middle;\n",
              "    }\n",
              "\n",
              "    .dataframe tbody tr th {\n",
              "        vertical-align: top;\n",
              "    }\n",
              "\n",
              "    .dataframe thead th {\n",
              "        text-align: right;\n",
              "    }\n",
              "</style>\n",
              "<table border=\"1\" class=\"dataframe\">\n",
              "  <thead>\n",
              "    <tr style=\"text-align: right;\">\n",
              "      <th></th>\n",
              "      <th>PART</th>\n",
              "      <th>X</th>\n",
              "      <th>Y</th>\n",
              "      <th>IMG-PATH</th>\n",
              "      <th>WIDTH</th>\n",
              "      <th>HEIGHT</th>\n",
              "    </tr>\n",
              "  </thead>\n",
              "  <tbody>\n",
              "    <tr>\n",
              "      <th>0</th>\n",
              "      <td>nose</td>\n",
              "      <td>258</td>\n",
              "      <td>432</td>\n",
              "      <td>1 (1).jpg</td>\n",
              "      <td>500</td>\n",
              "      <td>750</td>\n",
              "    </tr>\n",
              "    <tr>\n",
              "      <th>1</th>\n",
              "      <td>nose</td>\n",
              "      <td>222</td>\n",
              "      <td>283</td>\n",
              "      <td>1 (1).png</td>\n",
              "      <td>429</td>\n",
              "      <td>527</td>\n",
              "    </tr>\n",
              "    <tr>\n",
              "      <th>2</th>\n",
              "      <td>nose</td>\n",
              "      <td>580</td>\n",
              "      <td>487</td>\n",
              "      <td>1 (10).jpg</td>\n",
              "      <td>1066</td>\n",
              "      <td>1332</td>\n",
              "    </tr>\n",
              "    <tr>\n",
              "      <th>3</th>\n",
              "      <td>nose</td>\n",
              "      <td>441</td>\n",
              "      <td>577</td>\n",
              "      <td>1 (10).png</td>\n",
              "      <td>1067</td>\n",
              "      <td>1600</td>\n",
              "    </tr>\n",
              "    <tr>\n",
              "      <th>4</th>\n",
              "      <td>nose</td>\n",
              "      <td>129</td>\n",
              "      <td>206</td>\n",
              "      <td>1 (100).jpg</td>\n",
              "      <td>236</td>\n",
              "      <td>354</td>\n",
              "    </tr>\n",
              "  </tbody>\n",
              "</table>\n",
              "</div>\n",
              "      <button class=\"colab-df-convert\" onclick=\"convertToInteractive('df-d5ff66d2-bed5-44af-868d-e6c51ba54584')\"\n",
              "              title=\"Convert this dataframe to an interactive table.\"\n",
              "              style=\"display:none;\">\n",
              "        \n",
              "  <svg xmlns=\"http://www.w3.org/2000/svg\" height=\"24px\"viewBox=\"0 0 24 24\"\n",
              "       width=\"24px\">\n",
              "    <path d=\"M0 0h24v24H0V0z\" fill=\"none\"/>\n",
              "    <path d=\"M18.56 5.44l.94 2.06.94-2.06 2.06-.94-2.06-.94-.94-2.06-.94 2.06-2.06.94zm-11 1L8.5 8.5l.94-2.06 2.06-.94-2.06-.94L8.5 2.5l-.94 2.06-2.06.94zm10 10l.94 2.06.94-2.06 2.06-.94-2.06-.94-.94-2.06-.94 2.06-2.06.94z\"/><path d=\"M17.41 7.96l-1.37-1.37c-.4-.4-.92-.59-1.43-.59-.52 0-1.04.2-1.43.59L10.3 9.45l-7.72 7.72c-.78.78-.78 2.05 0 2.83L4 21.41c.39.39.9.59 1.41.59.51 0 1.02-.2 1.41-.59l7.78-7.78 2.81-2.81c.8-.78.8-2.07 0-2.86zM5.41 20L4 18.59l7.72-7.72 1.47 1.35L5.41 20z\"/>\n",
              "  </svg>\n",
              "      </button>\n",
              "      \n",
              "  <style>\n",
              "    .colab-df-container {\n",
              "      display:flex;\n",
              "      flex-wrap:wrap;\n",
              "      gap: 12px;\n",
              "    }\n",
              "\n",
              "    .colab-df-convert {\n",
              "      background-color: #E8F0FE;\n",
              "      border: none;\n",
              "      border-radius: 50%;\n",
              "      cursor: pointer;\n",
              "      display: none;\n",
              "      fill: #1967D2;\n",
              "      height: 32px;\n",
              "      padding: 0 0 0 0;\n",
              "      width: 32px;\n",
              "    }\n",
              "\n",
              "    .colab-df-convert:hover {\n",
              "      background-color: #E2EBFA;\n",
              "      box-shadow: 0px 1px 2px rgba(60, 64, 67, 0.3), 0px 1px 3px 1px rgba(60, 64, 67, 0.15);\n",
              "      fill: #174EA6;\n",
              "    }\n",
              "\n",
              "    [theme=dark] .colab-df-convert {\n",
              "      background-color: #3B4455;\n",
              "      fill: #D2E3FC;\n",
              "    }\n",
              "\n",
              "    [theme=dark] .colab-df-convert:hover {\n",
              "      background-color: #434B5C;\n",
              "      box-shadow: 0px 1px 3px 1px rgba(0, 0, 0, 0.15);\n",
              "      filter: drop-shadow(0px 1px 2px rgba(0, 0, 0, 0.3));\n",
              "      fill: #FFFFFF;\n",
              "    }\n",
              "  </style>\n",
              "\n",
              "      <script>\n",
              "        const buttonEl =\n",
              "          document.querySelector('#df-d5ff66d2-bed5-44af-868d-e6c51ba54584 button.colab-df-convert');\n",
              "        buttonEl.style.display =\n",
              "          google.colab.kernel.accessAllowed ? 'block' : 'none';\n",
              "\n",
              "        async function convertToInteractive(key) {\n",
              "          const element = document.querySelector('#df-d5ff66d2-bed5-44af-868d-e6c51ba54584');\n",
              "          const dataTable =\n",
              "            await google.colab.kernel.invokeFunction('convertToInteractive',\n",
              "                                                     [key], {});\n",
              "          if (!dataTable) return;\n",
              "\n",
              "          const docLinkHtml = 'Like what you see? Visit the ' +\n",
              "            '<a target=\"_blank\" href=https://colab.research.google.com/notebooks/data_table.ipynb>data table notebook</a>'\n",
              "            + ' to learn more about interactive tables.';\n",
              "          element.innerHTML = '';\n",
              "          dataTable['output_type'] = 'display_data';\n",
              "          await google.colab.output.renderOutput(dataTable, element);\n",
              "          const docLink = document.createElement('div');\n",
              "          docLink.innerHTML = docLinkHtml;\n",
              "          element.appendChild(docLink);\n",
              "        }\n",
              "      </script>\n",
              "    </div>\n",
              "  </div>\n",
              "  "
            ],
            "text/plain": [
              "   PART    X    Y     IMG-PATH  WIDTH  HEIGHT\n",
              "0  nose  258  432    1 (1).jpg    500     750\n",
              "1  nose  222  283    1 (1).png    429     527\n",
              "2  nose  580  487   1 (10).jpg   1066    1332\n",
              "3  nose  441  577   1 (10).png   1067    1600\n",
              "4  nose  129  206  1 (100).jpg    236     354"
            ]
          },
          "metadata": {},
          "execution_count": 52
        }
      ]
    },
    {
      "cell_type": "code",
      "source": [
        "df[\"X\"] = df[\"X\"].apply(reshape_annotation_x,args=[list(df[\"WIDTH\"])])"
      ],
      "metadata": {
        "id": "ZxDIYq7fHD-q"
      },
      "execution_count": 53,
      "outputs": []
    },
    {
      "cell_type": "code",
      "source": [
        "df[\"Y\"] = df[\"Y\"].apply(reshape_annotation_x,args=[list(df[\"HEIGHT\"])])"
      ],
      "metadata": {
        "id": "CvK68NlkIPXF"
      },
      "execution_count": 54,
      "outputs": []
    },
    {
      "cell_type": "code",
      "source": [
        "df.head(5)"
      ],
      "metadata": {
        "colab": {
          "base_uri": "https://localhost:8080/",
          "height": 206
        },
        "id": "5QT3dw7QHuQA",
        "outputId": "c23794e9-02c6-4449-ca90-435b75de26b9"
      },
      "execution_count": 55,
      "outputs": [
        {
          "output_type": "execute_result",
          "data": {
            "text/html": [
              "\n",
              "  <div id=\"df-38d1d9f0-9331-4556-8b77-81d798d6e90e\">\n",
              "    <div class=\"colab-df-container\">\n",
              "      <div>\n",
              "<style scoped>\n",
              "    .dataframe tbody tr th:only-of-type {\n",
              "        vertical-align: middle;\n",
              "    }\n",
              "\n",
              "    .dataframe tbody tr th {\n",
              "        vertical-align: top;\n",
              "    }\n",
              "\n",
              "    .dataframe thead th {\n",
              "        text-align: right;\n",
              "    }\n",
              "</style>\n",
              "<table border=\"1\" class=\"dataframe\">\n",
              "  <thead>\n",
              "    <tr style=\"text-align: right;\">\n",
              "      <th></th>\n",
              "      <th>PART</th>\n",
              "      <th>X</th>\n",
              "      <th>Y</th>\n",
              "      <th>IMG-PATH</th>\n",
              "      <th>WIDTH</th>\n",
              "      <th>HEIGHT</th>\n",
              "    </tr>\n",
              "  </thead>\n",
              "  <tbody>\n",
              "    <tr>\n",
              "      <th>0</th>\n",
              "      <td>nose</td>\n",
              "      <td>103</td>\n",
              "      <td>259</td>\n",
              "      <td>1 (1).jpg</td>\n",
              "      <td>500</td>\n",
              "      <td>750</td>\n",
              "    </tr>\n",
              "    <tr>\n",
              "      <th>1</th>\n",
              "      <td>nose</td>\n",
              "      <td>89</td>\n",
              "      <td>170</td>\n",
              "      <td>1 (1).png</td>\n",
              "      <td>429</td>\n",
              "      <td>527</td>\n",
              "    </tr>\n",
              "    <tr>\n",
              "      <th>2</th>\n",
              "      <td>nose</td>\n",
              "      <td>232</td>\n",
              "      <td>292</td>\n",
              "      <td>1 (10).jpg</td>\n",
              "      <td>1066</td>\n",
              "      <td>1332</td>\n",
              "    </tr>\n",
              "    <tr>\n",
              "      <th>3</th>\n",
              "      <td>nose</td>\n",
              "      <td>176</td>\n",
              "      <td>346</td>\n",
              "      <td>1 (10).png</td>\n",
              "      <td>1067</td>\n",
              "      <td>1600</td>\n",
              "    </tr>\n",
              "    <tr>\n",
              "      <th>4</th>\n",
              "      <td>nose</td>\n",
              "      <td>52</td>\n",
              "      <td>124</td>\n",
              "      <td>1 (100).jpg</td>\n",
              "      <td>236</td>\n",
              "      <td>354</td>\n",
              "    </tr>\n",
              "  </tbody>\n",
              "</table>\n",
              "</div>\n",
              "      <button class=\"colab-df-convert\" onclick=\"convertToInteractive('df-38d1d9f0-9331-4556-8b77-81d798d6e90e')\"\n",
              "              title=\"Convert this dataframe to an interactive table.\"\n",
              "              style=\"display:none;\">\n",
              "        \n",
              "  <svg xmlns=\"http://www.w3.org/2000/svg\" height=\"24px\"viewBox=\"0 0 24 24\"\n",
              "       width=\"24px\">\n",
              "    <path d=\"M0 0h24v24H0V0z\" fill=\"none\"/>\n",
              "    <path d=\"M18.56 5.44l.94 2.06.94-2.06 2.06-.94-2.06-.94-.94-2.06-.94 2.06-2.06.94zm-11 1L8.5 8.5l.94-2.06 2.06-.94-2.06-.94L8.5 2.5l-.94 2.06-2.06.94zm10 10l.94 2.06.94-2.06 2.06-.94-2.06-.94-.94-2.06-.94 2.06-2.06.94z\"/><path d=\"M17.41 7.96l-1.37-1.37c-.4-.4-.92-.59-1.43-.59-.52 0-1.04.2-1.43.59L10.3 9.45l-7.72 7.72c-.78.78-.78 2.05 0 2.83L4 21.41c.39.39.9.59 1.41.59.51 0 1.02-.2 1.41-.59l7.78-7.78 2.81-2.81c.8-.78.8-2.07 0-2.86zM5.41 20L4 18.59l7.72-7.72 1.47 1.35L5.41 20z\"/>\n",
              "  </svg>\n",
              "      </button>\n",
              "      \n",
              "  <style>\n",
              "    .colab-df-container {\n",
              "      display:flex;\n",
              "      flex-wrap:wrap;\n",
              "      gap: 12px;\n",
              "    }\n",
              "\n",
              "    .colab-df-convert {\n",
              "      background-color: #E8F0FE;\n",
              "      border: none;\n",
              "      border-radius: 50%;\n",
              "      cursor: pointer;\n",
              "      display: none;\n",
              "      fill: #1967D2;\n",
              "      height: 32px;\n",
              "      padding: 0 0 0 0;\n",
              "      width: 32px;\n",
              "    }\n",
              "\n",
              "    .colab-df-convert:hover {\n",
              "      background-color: #E2EBFA;\n",
              "      box-shadow: 0px 1px 2px rgba(60, 64, 67, 0.3), 0px 1px 3px 1px rgba(60, 64, 67, 0.15);\n",
              "      fill: #174EA6;\n",
              "    }\n",
              "\n",
              "    [theme=dark] .colab-df-convert {\n",
              "      background-color: #3B4455;\n",
              "      fill: #D2E3FC;\n",
              "    }\n",
              "\n",
              "    [theme=dark] .colab-df-convert:hover {\n",
              "      background-color: #434B5C;\n",
              "      box-shadow: 0px 1px 3px 1px rgba(0, 0, 0, 0.15);\n",
              "      filter: drop-shadow(0px 1px 2px rgba(0, 0, 0, 0.3));\n",
              "      fill: #FFFFFF;\n",
              "    }\n",
              "  </style>\n",
              "\n",
              "      <script>\n",
              "        const buttonEl =\n",
              "          document.querySelector('#df-38d1d9f0-9331-4556-8b77-81d798d6e90e button.colab-df-convert');\n",
              "        buttonEl.style.display =\n",
              "          google.colab.kernel.accessAllowed ? 'block' : 'none';\n",
              "\n",
              "        async function convertToInteractive(key) {\n",
              "          const element = document.querySelector('#df-38d1d9f0-9331-4556-8b77-81d798d6e90e');\n",
              "          const dataTable =\n",
              "            await google.colab.kernel.invokeFunction('convertToInteractive',\n",
              "                                                     [key], {});\n",
              "          if (!dataTable) return;\n",
              "\n",
              "          const docLinkHtml = 'Like what you see? Visit the ' +\n",
              "            '<a target=\"_blank\" href=https://colab.research.google.com/notebooks/data_table.ipynb>data table notebook</a>'\n",
              "            + ' to learn more about interactive tables.';\n",
              "          element.innerHTML = '';\n",
              "          dataTable['output_type'] = 'display_data';\n",
              "          await google.colab.output.renderOutput(dataTable, element);\n",
              "          const docLink = document.createElement('div');\n",
              "          docLink.innerHTML = docLinkHtml;\n",
              "          element.appendChild(docLink);\n",
              "        }\n",
              "      </script>\n",
              "    </div>\n",
              "  </div>\n",
              "  "
            ],
            "text/plain": [
              "   PART    X    Y     IMG-PATH  WIDTH  HEIGHT\n",
              "0  nose  103  259    1 (1).jpg    500     750\n",
              "1  nose   89  170    1 (1).png    429     527\n",
              "2  nose  232  292   1 (10).jpg   1066    1332\n",
              "3  nose  176  346   1 (10).png   1067    1600\n",
              "4  nose   52  124  1 (100).jpg    236     354"
            ]
          },
          "metadata": {},
          "execution_count": 55
        }
      ]
    },
    {
      "cell_type": "code",
      "source": [
        "def draw_annotation(img_path:str,coords:Tuple[int,int],isReshape:bool) -> Any:\n",
        "    \n",
        "    image = cv2.imread(img_path)\n",
        "    if isReshape:\n",
        "      image = image = cv2.resize(image,(300,300))\n",
        "    \n",
        "    image = cv2.circle(image, (coords[0],coords[1]), radius=5, color=(0, 0, 255), thickness=-1)\n",
        "    cv2.imwrite(\"/content/img.jpg\",image)\n"
      ],
      "metadata": {
        "id": "wxsjVEcVWZE4"
      },
      "execution_count": 56,
      "outputs": []
    },
    {
      "cell_type": "code",
      "source": [
        "index = np.random.randint(0,1040)\n",
        "\n",
        "img_path = image_data_path + df[\"IMG-PATH\"][index]\n",
        "coords = (df[\"X\"][index],df[\"Y\"][index])\n",
        "print(index,coords)\n",
        "\n",
        "draw_annotation(img_path,coords,True)"
      ],
      "metadata": {
        "id": "wKYOKZSqXqiu",
        "colab": {
          "base_uri": "https://localhost:8080/"
        },
        "outputId": "8e06cc63-383e-4111-f3cf-1d3d3f44e820"
      },
      "execution_count": 58,
      "outputs": [
        {
          "output_type": "stream",
          "name": "stdout",
          "text": [
            "489 (133, 244)\n"
          ]
        }
      ]
    },
    {
      "cell_type": "code",
      "source": [
        "\n",
        "# 1.refer these both links\n",
        "# https://towardsdatascience.com/facial-keypoints-detection-image-and-keypoints-augmentation-6c2ea824a59\n",
        "# https://www.kaggle.com/dhyeydabhi/facial-keypoints-fine-tuning-on-resnet50\n",
        "\n",
        "# 2\n",
        "# https://medium.com/analytics-vidhya/facial-keypoint-detection-with-pytorch-e9f94ab321a2\n",
        "# https://github.com/nalbert9/Facial-Keypoint-Detection/blob/master/data_load.py\n",
        "\n",
        "# 3\n",
        "# https://www.coursera.org/projects/facial-keypoint-detection\n",
        "\n",
        "# 4\n",
        "# https://www.kaggle.com/kakash/cnn-pytorch/notebook\n"
      ],
      "metadata": {
        "id": "vpqszsvtYKqv"
      },
      "execution_count": null,
      "outputs": []
    },
    {
      "cell_type": "code",
      "source": [
        "X = df[\"IMG-PATH\"].to_numpy().reshape(-1,1)\n",
        "y = df[['X', 'Y']].to_numpy()"
      ],
      "metadata": {
        "id": "hmi8Q9G_ojKS"
      },
      "execution_count": null,
      "outputs": []
    },
    {
      "cell_type": "code",
      "source": [
        "print(X.shape,y.shape)"
      ],
      "metadata": {
        "colab": {
          "base_uri": "https://localhost:8080/"
        },
        "id": "2tnRXHmxpWSi",
        "outputId": "b122c12e-467e-4d44-acd2-5c62f0c62b1d"
      },
      "execution_count": null,
      "outputs": [
        {
          "output_type": "stream",
          "name": "stdout",
          "text": [
            "(1048, 1) (1048, 2)\n"
          ]
        }
      ]
    },
    {
      "cell_type": "code",
      "source": [
        "X_train,X_test,y_train,y_test = train_test_split(X,y,test_size=0.2,random_state=42)"
      ],
      "metadata": {
        "id": "C2itRlLcprA0"
      },
      "execution_count": null,
      "outputs": []
    },
    {
      "cell_type": "code",
      "source": [
        "print(X_train.shape,y_train.shape)"
      ],
      "metadata": {
        "colab": {
          "base_uri": "https://localhost:8080/"
        },
        "id": "PKoMdf2Cp5FC",
        "outputId": "50c27e4e-31d2-450d-ede2-9c1d9ce2aad2"
      },
      "execution_count": null,
      "outputs": [
        {
          "output_type": "stream",
          "name": "stdout",
          "text": [
            "(838, 1) (838, 2)\n"
          ]
        }
      ]
    },
    {
      "cell_type": "code",
      "source": [
        "print(X_test.shape,y_test.shape)"
      ],
      "metadata": {
        "colab": {
          "base_uri": "https://localhost:8080/"
        },
        "id": "DysYFoyIqAP6",
        "outputId": "a18a3eca-1231-4030-ed15-3dcc07793ca3"
      },
      "execution_count": null,
      "outputs": [
        {
          "output_type": "stream",
          "name": "stdout",
          "text": [
            "(210, 1) (210, 2)\n"
          ]
        }
      ]
    },
    {
      "cell_type": "code",
      "source": [
        "class NoseNetDataSet(Dataset):\n",
        "\n",
        "  def __init__(self,X,y,img_path,label_path,transform=None):\n",
        "    self.x = X\n",
        "    self.y = y\n",
        "    self.img_path = img_path\n",
        "    self.label_path = label_path\n",
        "    self.transform = transform\n",
        "\n",
        "  def __len__(self):\n",
        "    return len(self.x)\n",
        "\n",
        "  def __getitem__(self,index):\n",
        "    img = Image.open(self.img_path + self.x[index][0])\n",
        "    label = self.y[index]\n",
        "\n",
        "    if self.transform != None:\n",
        "      img = self.transform(img)\n",
        "    \n",
        "    return img,label"
      ],
      "metadata": {
        "id": "KAiSpfWGmSv2"
      },
      "execution_count": null,
      "outputs": []
    },
    {
      "cell_type": "code",
      "source": [
        "transformation = transforms.Compose([\n",
        "      transforms.ToTensor(),\n",
        "      transforms.Resize((300,300)),\n",
        "      transforms.GaussianBlur(kernel_size=(5, 9), sigma=(0.1, 5)),\n",
        "      transforms.RandomAdjustSharpness(sharpness_factor=2),\n",
        "      transforms.RandomAutocontrast()\n",
        "])\n",
        "\n",
        "train_dataset = NoseNetDataSet(X_train,y_train,image_data_path,label_data_path,transformation)\n",
        "test_dataset = NoseNetDataSet(X_test,y_test,image_data_path,label_data_path,transformation)\n",
        "\n",
        "train_dataloader = DataLoader(train_dataset,batch_size=100)\n",
        "test_dataloader = DataLoader(test_dataset,batch_size=100)"
      ],
      "metadata": {
        "id": "Q3-ds9U8q_yE"
      },
      "execution_count": null,
      "outputs": []
    },
    {
      "cell_type": "code",
      "source": [
        "input_batch,label_batch = next(iter(train_dataloader))"
      ],
      "metadata": {
        "id": "OqMOaKnZrwXi"
      },
      "execution_count": null,
      "outputs": []
    },
    {
      "cell_type": "code",
      "source": [
        "def makegrid(input_batch):\n",
        "  grid = torchvision.utils.make_grid(input_batch, nrow=40, pad_value=1)\n",
        "  torchvision.utils.save_image(grid, 'inputs_batch_preview.png')"
      ],
      "metadata": {
        "id": "RxFZ15d7r3lq"
      },
      "execution_count": null,
      "outputs": []
    },
    {
      "cell_type": "code",
      "source": [
        "makegrid(input_batch)"
      ],
      "metadata": {
        "id": "sij4U419tuAV"
      },
      "execution_count": null,
      "outputs": []
    },
    {
      "cell_type": "code",
      "source": [
        ""
      ],
      "metadata": {
        "id": "8tlDVwCMomaj"
      },
      "execution_count": null,
      "outputs": []
    }
  ]
}